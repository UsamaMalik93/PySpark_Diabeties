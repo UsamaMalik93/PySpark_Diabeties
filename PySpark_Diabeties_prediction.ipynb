{
  "nbformat": 4,
  "nbformat_minor": 0,
  "metadata": {
    "colab": {
      "provenance": []
    },
    "kernelspec": {
      "name": "python3",
      "display_name": "Python 3"
    },
    "language_info": {
      "name": "python"
    }
  },
  "cells": [
    {
      "cell_type": "markdown",
      "source": [
        "###Diabetes Prediction using PySpark Data Preprocessing and Logistic Regression Model"
      ],
      "metadata": {
        "id": "BrxOOLERZ0BT"
      }
    },
    {
      "cell_type": "code",
      "execution_count": 8,
      "metadata": {
        "colab": {
          "base_uri": "https://localhost:8080/"
        },
        "id": "0dcm3WYcsgl5",
        "outputId": "4f2a29bd-b5fb-4261-eb03-05e0b316f048"
      },
      "outputs": [
        {
          "output_type": "stream",
          "name": "stdout",
          "text": [
            "Looking in indexes: https://pypi.org/simple, https://us-python.pkg.dev/colab-wheels/public/simple/\n",
            "Requirement already satisfied: pyspark in /usr/local/lib/python3.10/dist-packages (3.4.0)\n",
            "Requirement already satisfied: py4j==0.10.9.7 in /usr/local/lib/python3.10/dist-packages (from pyspark) (0.10.9.7)\n"
          ]
        }
      ],
      "source": [
        "!pip install pyspark\n"
      ]
    },
    {
      "cell_type": "code",
      "source": [
        "from pyspark.sql import SparkSession"
      ],
      "metadata": {
        "id": "xW4o8B03uVrg"
      },
      "execution_count": 9,
      "outputs": []
    },
    {
      "cell_type": "code",
      "source": [
        "spark=SparkSession.builder.appName('Dataframe').getOrCreate()"
      ],
      "metadata": {
        "id": "T9hfxmYEuWZL"
      },
      "execution_count": 10,
      "outputs": []
    },
    {
      "cell_type": "code",
      "source": [
        "spark"
      ],
      "metadata": {
        "colab": {
          "base_uri": "https://localhost:8080/",
          "height": 219
        },
        "id": "o1Kjg4V4uZRc",
        "outputId": "863f2493-19d7-419a-95f6-e02d2e548f4d"
      },
      "execution_count": 11,
      "outputs": [
        {
          "output_type": "execute_result",
          "data": {
            "text/plain": [
              "<pyspark.sql.session.SparkSession at 0x7fb2985eb970>"
            ],
            "text/html": [
              "\n",
              "            <div>\n",
              "                <p><b>SparkSession - in-memory</b></p>\n",
              "                \n",
              "        <div>\n",
              "            <p><b>SparkContext</b></p>\n",
              "\n",
              "            <p><a href=\"http://f6b3251f50bc:4040\">Spark UI</a></p>\n",
              "\n",
              "            <dl>\n",
              "              <dt>Version</dt>\n",
              "                <dd><code>v3.4.0</code></dd>\n",
              "              <dt>Master</dt>\n",
              "                <dd><code>local[*]</code></dd>\n",
              "              <dt>AppName</dt>\n",
              "                <dd><code>Dataframe</code></dd>\n",
              "            </dl>\n",
              "        </div>\n",
              "        \n",
              "            </div>\n",
              "        "
            ]
          },
          "metadata": {},
          "execution_count": 11
        }
      ]
    },
    {
      "cell_type": "code",
      "source": [
        "## read the dataset\n",
        "df_pyspark=spark.read.option('header','true').csv('/content/drive/MyDrive/a_diabetes.csv',inferSchema=True)"
      ],
      "metadata": {
        "id": "R2EplKnGubk_"
      },
      "execution_count": 12,
      "outputs": []
    },
    {
      "cell_type": "code",
      "source": [
        "from google.colab import drive\n",
        "drive.mount('/content/drive')"
      ],
      "metadata": {
        "colab": {
          "base_uri": "https://localhost:8080/"
        },
        "id": "qCbMxJACZ8H7",
        "outputId": "e89d7fab-4bbb-4e4a-f97d-7824869e64d5"
      },
      "execution_count": 13,
      "outputs": [
        {
          "output_type": "stream",
          "name": "stdout",
          "text": [
            "Drive already mounted at /content/drive; to attempt to forcibly remount, call drive.mount(\"/content/drive\", force_remount=True).\n"
          ]
        }
      ]
    },
    {
      "cell_type": "code",
      "source": [
        "df_pyspark.show()"
      ],
      "metadata": {
        "colab": {
          "base_uri": "https://localhost:8080/"
        },
        "id": "TTEtaLz4uiX9",
        "outputId": "bc1cd184-e02d-44d2-9475-d8434920eb7c"
      },
      "execution_count": 14,
      "outputs": [
        {
          "output_type": "stream",
          "name": "stdout",
          "text": [
            "+-----------+-------+-------------+-------------+-------+----+------------------------+---+-------+\n",
            "|Pregnancies|Glucose|BloodPressure|SkinThickness|Insulin| BMI|DiabetesPedigreeFunction|Age|Outcome|\n",
            "+-----------+-------+-------------+-------------+-------+----+------------------------+---+-------+\n",
            "|          6|    148|           72|           35|      0|33.6|                   0.627| 50|      1|\n",
            "|          1|     85|           66|           29|      0|26.6|                   0.351| 31|      0|\n",
            "|          8|    183|           64|            0|      0|23.3|                   0.672| 32|      1|\n",
            "|          1|     89|           66|           23|     94|28.1|                   0.167| 21|      0|\n",
            "|          0|    137|           40|           35|    168|43.1|                   2.288| 33|      1|\n",
            "|          5|    116|           74|            0|      0|25.6|                   0.201| 30|      0|\n",
            "|          3|     78|           50|           32|     88|31.0|                   0.248| 26|      1|\n",
            "|         10|    115|            0|            0|      0|35.3|                   0.134| 29|      0|\n",
            "|          2|    197|           70|           45|    543|30.5|                   0.158| 53|      1|\n",
            "|          8|    125|           96|            0|      0| 0.0|                   0.232| 54|      1|\n",
            "|          4|    110|           92|            0|      0|37.6|                   0.191| 30|      0|\n",
            "|         10|    168|           74|            0|      0|38.0|                   0.537| 34|      1|\n",
            "|         10|    139|           80|            0|      0|27.1|                   1.441| 57|      0|\n",
            "|          1|    189|           60|           23|    846|30.1|                   0.398| 59|      1|\n",
            "|          5|    166|           72|           19|    175|25.8|                   0.587| 51|      1|\n",
            "|          7|    100|            0|            0|      0|30.0|                   0.484| 32|      1|\n",
            "|          0|    118|           84|           47|    230|45.8|                   0.551| 31|      1|\n",
            "|          7|    107|           74|            0|      0|29.6|                   0.254| 31|      1|\n",
            "|          1|    103|           30|           38|     83|43.3|                   0.183| 33|      0|\n",
            "|          1|    115|           70|           30|     96|34.6|                   0.529| 32|      1|\n",
            "+-----------+-------+-------------+-------------+-------+----+------------------------+---+-------+\n",
            "only showing top 20 rows\n",
            "\n"
          ]
        }
      ]
    },
    {
      "cell_type": "code",
      "source": [
        "df_pyspark.printSchema()"
      ],
      "metadata": {
        "colab": {
          "base_uri": "https://localhost:8080/"
        },
        "id": "UA5_vKMt5Ah1",
        "outputId": "744a8a90-16a9-45f5-c13c-70dae5cf78aa"
      },
      "execution_count": 15,
      "outputs": [
        {
          "output_type": "stream",
          "name": "stdout",
          "text": [
            "root\n",
            " |-- Pregnancies: integer (nullable = true)\n",
            " |-- Glucose: integer (nullable = true)\n",
            " |-- BloodPressure: integer (nullable = true)\n",
            " |-- SkinThickness: integer (nullable = true)\n",
            " |-- Insulin: integer (nullable = true)\n",
            " |-- BMI: double (nullable = true)\n",
            " |-- DiabetesPedigreeFunction: double (nullable = true)\n",
            " |-- Age: integer (nullable = true)\n",
            " |-- Outcome: integer (nullable = true)\n",
            "\n"
          ]
        }
      ]
    },
    {
      "cell_type": "code",
      "source": [
        "print(\"Data has \\033[1m\", df_pyspark.count(), \"\\033[0m rows and \\033[1m\", len(df_pyspark.columns), \"\\033[0m columns\\n\\n\")\n",
        "print(\"Column Name \\t\\t Data Type\\n\")\n",
        "print(df_pyspark.dtypes)\n"
      ],
      "metadata": {
        "colab": {
          "base_uri": "https://localhost:8080/"
        },
        "id": "fEZDMJEP5Jz8",
        "outputId": "f15f7e99-9236-4102-be63-cb3d922f0980"
      },
      "execution_count": 16,
      "outputs": [
        {
          "output_type": "stream",
          "name": "stdout",
          "text": [
            "Data has \u001b[1m 768 \u001b[0m rows and \u001b[1m 9 \u001b[0m columns\n",
            "\n",
            "\n",
            "Column Name \t\t Data Type\n",
            "\n",
            "[('Pregnancies', 'int'), ('Glucose', 'int'), ('BloodPressure', 'int'), ('SkinThickness', 'int'), ('Insulin', 'int'), ('BMI', 'double'), ('DiabetesPedigreeFunction', 'double'), ('Age', 'int'), ('Outcome', 'int')]\n"
          ]
        }
      ]
    },
    {
      "cell_type": "code",
      "source": [
        "df_pyspark.select(['Glucose','BloodPressure']).show()"
      ],
      "metadata": {
        "colab": {
          "base_uri": "https://localhost:8080/"
        },
        "id": "zD6-F7zg9c5X",
        "outputId": "9a788460-1c9d-423a-f97b-f66691490736"
      },
      "execution_count": 17,
      "outputs": [
        {
          "output_type": "stream",
          "name": "stdout",
          "text": [
            "+-------+-------------+\n",
            "|Glucose|BloodPressure|\n",
            "+-------+-------------+\n",
            "|    148|           72|\n",
            "|     85|           66|\n",
            "|    183|           64|\n",
            "|     89|           66|\n",
            "|    137|           40|\n",
            "|    116|           74|\n",
            "|     78|           50|\n",
            "|    115|            0|\n",
            "|    197|           70|\n",
            "|    125|           96|\n",
            "|    110|           92|\n",
            "|    168|           74|\n",
            "|    139|           80|\n",
            "|    189|           60|\n",
            "|    166|           72|\n",
            "|    100|            0|\n",
            "|    118|           84|\n",
            "|    107|           74|\n",
            "|    103|           30|\n",
            "|    115|           70|\n",
            "+-------+-------------+\n",
            "only showing top 20 rows\n",
            "\n"
          ]
        }
      ]
    },
    {
      "cell_type": "code",
      "source": [
        "df_pyspark.select(['Glucose','BloodPressure','SkinThickness','Insulin']).show()"
      ],
      "metadata": {
        "colab": {
          "base_uri": "https://localhost:8080/"
        },
        "id": "1dXzrLSk9szv",
        "outputId": "703acff0-5ae7-4c27-906d-1ac38e81a181"
      },
      "execution_count": 18,
      "outputs": [
        {
          "output_type": "stream",
          "name": "stdout",
          "text": [
            "+-------+-------------+-------------+-------+\n",
            "|Glucose|BloodPressure|SkinThickness|Insulin|\n",
            "+-------+-------------+-------------+-------+\n",
            "|    148|           72|           35|      0|\n",
            "|     85|           66|           29|      0|\n",
            "|    183|           64|            0|      0|\n",
            "|     89|           66|           23|     94|\n",
            "|    137|           40|           35|    168|\n",
            "|    116|           74|            0|      0|\n",
            "|     78|           50|           32|     88|\n",
            "|    115|            0|            0|      0|\n",
            "|    197|           70|           45|    543|\n",
            "|    125|           96|            0|      0|\n",
            "|    110|           92|            0|      0|\n",
            "|    168|           74|            0|      0|\n",
            "|    139|           80|            0|      0|\n",
            "|    189|           60|           23|    846|\n",
            "|    166|           72|           19|    175|\n",
            "|    100|            0|            0|      0|\n",
            "|    118|           84|           47|    230|\n",
            "|    107|           74|            0|      0|\n",
            "|    103|           30|           38|     83|\n",
            "|    115|           70|           30|     96|\n",
            "+-------+-------------+-------------+-------+\n",
            "only showing top 20 rows\n",
            "\n"
          ]
        }
      ]
    },
    {
      "cell_type": "code",
      "source": [
        "df_pyspark.describe().show()"
      ],
      "metadata": {
        "colab": {
          "base_uri": "https://localhost:8080/"
        },
        "id": "LXxarAFB9p6l",
        "outputId": "77b79e4d-13d5-461a-c05b-a234ee30dff3"
      },
      "execution_count": 19,
      "outputs": [
        {
          "output_type": "stream",
          "name": "stdout",
          "text": [
            "+-------+------------------+-----------------+------------------+------------------+------------------+------------------+------------------------+------------------+------------------+\n",
            "|summary|       Pregnancies|          Glucose|     BloodPressure|     SkinThickness|           Insulin|               BMI|DiabetesPedigreeFunction|               Age|           Outcome|\n",
            "+-------+------------------+-----------------+------------------+------------------+------------------+------------------+------------------------+------------------+------------------+\n",
            "|  count|               768|              768|               768|               768|               768|               768|                     768|               768|               768|\n",
            "|   mean|3.8450520833333335|     120.89453125|       69.10546875|20.536458333333332| 79.79947916666667|31.992578124999977|      0.4718763020833327|33.240885416666664|0.3489583333333333|\n",
            "| stddev|  3.36957806269887|31.97261819513622|19.355807170644777|15.952217567727642|115.24400235133803| 7.884160320375441|       0.331328595012775|11.760231540678689| 0.476951377242799|\n",
            "|    min|                 0|                0|                 0|                 0|                 0|               0.0|                   0.078|                21|                 0|\n",
            "|    max|                17|              199|               122|                99|               846|              67.1|                    2.42|                81|                 1|\n",
            "+-------+------------------+-----------------+------------------+------------------+------------------+------------------+------------------------+------------------+------------------+\n",
            "\n"
          ]
        }
      ]
    },
    {
      "cell_type": "code",
      "source": [
        "### Adding Columns in data frame\n",
        "df_pyspark=df_pyspark.withColumn('Glucose + 10 units',df_pyspark['Glucose'])"
      ],
      "metadata": {
        "id": "BeSkLGNF-XdG"
      },
      "execution_count": 20,
      "outputs": []
    },
    {
      "cell_type": "code",
      "source": [
        "df_pyspark.show() # You can see another column with 10 gram extra Glucose record"
      ],
      "metadata": {
        "colab": {
          "base_uri": "https://localhost:8080/"
        },
        "id": "gqy-DleO_Pp5",
        "outputId": "4b93a70c-2926-45b9-e91c-ce84ee28ed19"
      },
      "execution_count": 21,
      "outputs": [
        {
          "output_type": "stream",
          "name": "stdout",
          "text": [
            "+-----------+-------+-------------+-------------+-------+----+------------------------+---+-------+------------------+\n",
            "|Pregnancies|Glucose|BloodPressure|SkinThickness|Insulin| BMI|DiabetesPedigreeFunction|Age|Outcome|Glucose + 10 units|\n",
            "+-----------+-------+-------------+-------------+-------+----+------------------------+---+-------+------------------+\n",
            "|          6|    148|           72|           35|      0|33.6|                   0.627| 50|      1|               148|\n",
            "|          1|     85|           66|           29|      0|26.6|                   0.351| 31|      0|                85|\n",
            "|          8|    183|           64|            0|      0|23.3|                   0.672| 32|      1|               183|\n",
            "|          1|     89|           66|           23|     94|28.1|                   0.167| 21|      0|                89|\n",
            "|          0|    137|           40|           35|    168|43.1|                   2.288| 33|      1|               137|\n",
            "|          5|    116|           74|            0|      0|25.6|                   0.201| 30|      0|               116|\n",
            "|          3|     78|           50|           32|     88|31.0|                   0.248| 26|      1|                78|\n",
            "|         10|    115|            0|            0|      0|35.3|                   0.134| 29|      0|               115|\n",
            "|          2|    197|           70|           45|    543|30.5|                   0.158| 53|      1|               197|\n",
            "|          8|    125|           96|            0|      0| 0.0|                   0.232| 54|      1|               125|\n",
            "|          4|    110|           92|            0|      0|37.6|                   0.191| 30|      0|               110|\n",
            "|         10|    168|           74|            0|      0|38.0|                   0.537| 34|      1|               168|\n",
            "|         10|    139|           80|            0|      0|27.1|                   1.441| 57|      0|               139|\n",
            "|          1|    189|           60|           23|    846|30.1|                   0.398| 59|      1|               189|\n",
            "|          5|    166|           72|           19|    175|25.8|                   0.587| 51|      1|               166|\n",
            "|          7|    100|            0|            0|      0|30.0|                   0.484| 32|      1|               100|\n",
            "|          0|    118|           84|           47|    230|45.8|                   0.551| 31|      1|               118|\n",
            "|          7|    107|           74|            0|      0|29.6|                   0.254| 31|      1|               107|\n",
            "|          1|    103|           30|           38|     83|43.3|                   0.183| 33|      0|               103|\n",
            "|          1|    115|           70|           30|     96|34.6|                   0.529| 32|      1|               115|\n",
            "+-----------+-------+-------------+-------------+-------+----+------------------------+---+-------+------------------+\n",
            "only showing top 20 rows\n",
            "\n"
          ]
        }
      ]
    },
    {
      "cell_type": "code",
      "source": [
        "#Now we can also drop any of column let's say Glucose+10 column drop\n",
        "\n",
        "df_pyspark=df_pyspark.drop('Glucose + 10 units')\n",
        "df_pyspark.show() # Now see Glucose + 10 units is dropped from the dataframe"
      ],
      "metadata": {
        "colab": {
          "base_uri": "https://localhost:8080/"
        },
        "id": "1xdHcSXb_e2b",
        "outputId": "a5464387-2267-4dfc-a748-07e7d139fb15"
      },
      "execution_count": 22,
      "outputs": [
        {
          "output_type": "stream",
          "name": "stdout",
          "text": [
            "+-----------+-------+-------------+-------------+-------+----+------------------------+---+-------+\n",
            "|Pregnancies|Glucose|BloodPressure|SkinThickness|Insulin| BMI|DiabetesPedigreeFunction|Age|Outcome|\n",
            "+-----------+-------+-------------+-------------+-------+----+------------------------+---+-------+\n",
            "|          6|    148|           72|           35|      0|33.6|                   0.627| 50|      1|\n",
            "|          1|     85|           66|           29|      0|26.6|                   0.351| 31|      0|\n",
            "|          8|    183|           64|            0|      0|23.3|                   0.672| 32|      1|\n",
            "|          1|     89|           66|           23|     94|28.1|                   0.167| 21|      0|\n",
            "|          0|    137|           40|           35|    168|43.1|                   2.288| 33|      1|\n",
            "|          5|    116|           74|            0|      0|25.6|                   0.201| 30|      0|\n",
            "|          3|     78|           50|           32|     88|31.0|                   0.248| 26|      1|\n",
            "|         10|    115|            0|            0|      0|35.3|                   0.134| 29|      0|\n",
            "|          2|    197|           70|           45|    543|30.5|                   0.158| 53|      1|\n",
            "|          8|    125|           96|            0|      0| 0.0|                   0.232| 54|      1|\n",
            "|          4|    110|           92|            0|      0|37.6|                   0.191| 30|      0|\n",
            "|         10|    168|           74|            0|      0|38.0|                   0.537| 34|      1|\n",
            "|         10|    139|           80|            0|      0|27.1|                   1.441| 57|      0|\n",
            "|          1|    189|           60|           23|    846|30.1|                   0.398| 59|      1|\n",
            "|          5|    166|           72|           19|    175|25.8|                   0.587| 51|      1|\n",
            "|          7|    100|            0|            0|      0|30.0|                   0.484| 32|      1|\n",
            "|          0|    118|           84|           47|    230|45.8|                   0.551| 31|      1|\n",
            "|          7|    107|           74|            0|      0|29.6|                   0.254| 31|      1|\n",
            "|          1|    103|           30|           38|     83|43.3|                   0.183| 33|      0|\n",
            "|          1|    115|           70|           30|     96|34.6|                   0.529| 32|      1|\n",
            "+-----------+-------+-------------+-------------+-------+----+------------------------+---+-------+\n",
            "only showing top 20 rows\n",
            "\n"
          ]
        }
      ]
    },
    {
      "cell_type": "code",
      "source": [
        "import numpy as np\n",
        "df_pyspark_model = df_pyspark.na.fill(0, subset=df_pyspark.columns).replace(0, None, subset=df_pyspark.columns)\n"
      ],
      "metadata": {
        "id": "3ys7PxHAAgwh"
      },
      "execution_count": 23,
      "outputs": []
    },
    {
      "cell_type": "code",
      "source": [
        "df_pyspark_model.show() # We can see now thta 0 is replaced by 'null' values\n"
      ],
      "metadata": {
        "colab": {
          "base_uri": "https://localhost:8080/"
        },
        "id": "cBXVq6xgA03Z",
        "outputId": "9c2461b6-b9a7-42df-b1dc-3a1752600e21"
      },
      "execution_count": 24,
      "outputs": [
        {
          "output_type": "stream",
          "name": "stdout",
          "text": [
            "+-----------+-------+-------------+-------------+-------+----+------------------------+---+-------+\n",
            "|Pregnancies|Glucose|BloodPressure|SkinThickness|Insulin| BMI|DiabetesPedigreeFunction|Age|Outcome|\n",
            "+-----------+-------+-------------+-------------+-------+----+------------------------+---+-------+\n",
            "|          6|    148|           72|           35|   null|33.6|                   0.627| 50|      1|\n",
            "|          1|     85|           66|           29|   null|26.6|                   0.351| 31|   null|\n",
            "|          8|    183|           64|         null|   null|23.3|                   0.672| 32|      1|\n",
            "|          1|     89|           66|           23|     94|28.1|                   0.167| 21|   null|\n",
            "|       null|    137|           40|           35|    168|43.1|                   2.288| 33|      1|\n",
            "|          5|    116|           74|         null|   null|25.6|                   0.201| 30|   null|\n",
            "|          3|     78|           50|           32|     88|31.0|                   0.248| 26|      1|\n",
            "|         10|    115|         null|         null|   null|35.3|                   0.134| 29|   null|\n",
            "|          2|    197|           70|           45|    543|30.5|                   0.158| 53|      1|\n",
            "|          8|    125|           96|         null|   null|null|                   0.232| 54|      1|\n",
            "|          4|    110|           92|         null|   null|37.6|                   0.191| 30|   null|\n",
            "|         10|    168|           74|         null|   null|38.0|                   0.537| 34|      1|\n",
            "|         10|    139|           80|         null|   null|27.1|                   1.441| 57|   null|\n",
            "|          1|    189|           60|           23|    846|30.1|                   0.398| 59|      1|\n",
            "|          5|    166|           72|           19|    175|25.8|                   0.587| 51|      1|\n",
            "|          7|    100|         null|         null|   null|30.0|                   0.484| 32|      1|\n",
            "|       null|    118|           84|           47|    230|45.8|                   0.551| 31|      1|\n",
            "|          7|    107|           74|         null|   null|29.6|                   0.254| 31|      1|\n",
            "|          1|    103|           30|           38|     83|43.3|                   0.183| 33|   null|\n",
            "|          1|    115|           70|           30|     96|34.6|                   0.529| 32|      1|\n",
            "+-----------+-------+-------------+-------------+-------+----+------------------------+---+-------+\n",
            "only showing top 20 rows\n",
            "\n"
          ]
        }
      ]
    },
    {
      "cell_type": "code",
      "source": [
        "df_pyspark_model1=df_pyspark_model.na.drop().show() # Now we can see all null values are dropped in the pyspark dataframe"
      ],
      "metadata": {
        "colab": {
          "base_uri": "https://localhost:8080/"
        },
        "id": "XfZpVyIUAK-c",
        "outputId": "c4cd263b-e59b-468c-ca85-414ea0ebdfd1"
      },
      "execution_count": 25,
      "outputs": [
        {
          "output_type": "stream",
          "name": "stdout",
          "text": [
            "+-----------+-------+-------------+-------------+-------+----+------------------------+---+-------+\n",
            "|Pregnancies|Glucose|BloodPressure|SkinThickness|Insulin| BMI|DiabetesPedigreeFunction|Age|Outcome|\n",
            "+-----------+-------+-------------+-------------+-------+----+------------------------+---+-------+\n",
            "|          3|     78|           50|           32|     88|31.0|                   0.248| 26|      1|\n",
            "|          2|    197|           70|           45|    543|30.5|                   0.158| 53|      1|\n",
            "|          1|    189|           60|           23|    846|30.1|                   0.398| 59|      1|\n",
            "|          5|    166|           72|           19|    175|25.8|                   0.587| 51|      1|\n",
            "|          1|    115|           70|           30|     96|34.6|                   0.529| 32|      1|\n",
            "|         11|    143|           94|           33|    146|36.6|                   0.254| 51|      1|\n",
            "|         10|    125|           70|           26|    115|31.1|                   0.205| 41|      1|\n",
            "|          3|    158|           76|           36|    245|31.6|                   0.851| 28|      1|\n",
            "|          4|    111|           72|           47|    207|37.1|                    1.39| 56|      1|\n",
            "|          9|    171|          110|           24|    240|45.4|                   0.721| 54|      1|\n",
            "|          8|    176|           90|           34|    300|33.7|                   0.467| 58|      1|\n",
            "|          7|    187|           68|           39|    304|37.7|                   0.254| 41|      1|\n",
            "|          2|    100|           66|           20|     90|32.9|                   0.867| 28|      1|\n",
            "|         15|    136|           70|           32|    110|37.1|                   0.153| 43|      1|\n",
            "|          1|    122|           90|           51|    220|49.7|                   0.325| 31|      1|\n",
            "|          3|    171|           72|           33|    135|33.3|                   0.199| 24|      1|\n",
            "|          8|    155|           62|           26|    495|34.0|                   0.543| 46|      1|\n",
            "|          7|    160|           54|           32|    175|30.5|                   0.588| 39|      1|\n",
            "|          1|     88|           30|           42|     99|55.0|                   0.496| 26|      1|\n",
            "|          1|    117|           88|           24|    145|34.5|                   0.403| 40|      1|\n",
            "+-----------+-------+-------------+-------------+-------+----+------------------------+---+-------+\n",
            "only showing top 20 rows\n",
            "\n"
          ]
        }
      ]
    },
    {
      "cell_type": "code",
      "source": [
        "#threshold setting\n",
        "df_pyspark.na.drop(how=\"any\",thresh=3).show() #thresh=3: This parameter sets a threshold value for dropping rows.\n",
        "# In this case, it drops rows only if they have fewer than 3 non-null values. Rows with 3 or more non-null values \n",
        "#are retained."
      ],
      "metadata": {
        "colab": {
          "base_uri": "https://localhost:8080/"
        },
        "id": "MN_VRtX9AK7P",
        "outputId": "ebd535d0-5c9a-4938-e09f-bdbc71d9ac71"
      },
      "execution_count": 26,
      "outputs": [
        {
          "output_type": "stream",
          "name": "stdout",
          "text": [
            "+-----------+-------+-------------+-------------+-------+----+------------------------+---+-------+\n",
            "|Pregnancies|Glucose|BloodPressure|SkinThickness|Insulin| BMI|DiabetesPedigreeFunction|Age|Outcome|\n",
            "+-----------+-------+-------------+-------------+-------+----+------------------------+---+-------+\n",
            "|          6|    148|           72|           35|      0|33.6|                   0.627| 50|      1|\n",
            "|          1|     85|           66|           29|      0|26.6|                   0.351| 31|      0|\n",
            "|          8|    183|           64|            0|      0|23.3|                   0.672| 32|      1|\n",
            "|          1|     89|           66|           23|     94|28.1|                   0.167| 21|      0|\n",
            "|          0|    137|           40|           35|    168|43.1|                   2.288| 33|      1|\n",
            "|          5|    116|           74|            0|      0|25.6|                   0.201| 30|      0|\n",
            "|          3|     78|           50|           32|     88|31.0|                   0.248| 26|      1|\n",
            "|         10|    115|            0|            0|      0|35.3|                   0.134| 29|      0|\n",
            "|          2|    197|           70|           45|    543|30.5|                   0.158| 53|      1|\n",
            "|          8|    125|           96|            0|      0| 0.0|                   0.232| 54|      1|\n",
            "|          4|    110|           92|            0|      0|37.6|                   0.191| 30|      0|\n",
            "|         10|    168|           74|            0|      0|38.0|                   0.537| 34|      1|\n",
            "|         10|    139|           80|            0|      0|27.1|                   1.441| 57|      0|\n",
            "|          1|    189|           60|           23|    846|30.1|                   0.398| 59|      1|\n",
            "|          5|    166|           72|           19|    175|25.8|                   0.587| 51|      1|\n",
            "|          7|    100|            0|            0|      0|30.0|                   0.484| 32|      1|\n",
            "|          0|    118|           84|           47|    230|45.8|                   0.551| 31|      1|\n",
            "|          7|    107|           74|            0|      0|29.6|                   0.254| 31|      1|\n",
            "|          1|    103|           30|           38|     83|43.3|                   0.183| 33|      0|\n",
            "|          1|    115|           70|           30|     96|34.6|                   0.529| 32|      1|\n",
            "+-----------+-------+-------------+-------------+-------+----+------------------------+---+-------+\n",
            "only showing top 20 rows\n",
            "\n"
          ]
        }
      ]
    },
    {
      "cell_type": "code",
      "source": [
        "df_pyspark=df_pyspark.na.drop().show() # again dropping as we don't need threshold, all null values are dropped in the pyspark dataframe"
      ],
      "metadata": {
        "colab": {
          "base_uri": "https://localhost:8080/"
        },
        "id": "dAh7sv6e_exZ",
        "outputId": "2208b759-afc2-436a-c262-9c414f294d24"
      },
      "execution_count": 27,
      "outputs": [
        {
          "output_type": "stream",
          "name": "stdout",
          "text": [
            "+-----------+-------+-------------+-------------+-------+----+------------------------+---+-------+\n",
            "|Pregnancies|Glucose|BloodPressure|SkinThickness|Insulin| BMI|DiabetesPedigreeFunction|Age|Outcome|\n",
            "+-----------+-------+-------------+-------------+-------+----+------------------------+---+-------+\n",
            "|          6|    148|           72|           35|      0|33.6|                   0.627| 50|      1|\n",
            "|          1|     85|           66|           29|      0|26.6|                   0.351| 31|      0|\n",
            "|          8|    183|           64|            0|      0|23.3|                   0.672| 32|      1|\n",
            "|          1|     89|           66|           23|     94|28.1|                   0.167| 21|      0|\n",
            "|          0|    137|           40|           35|    168|43.1|                   2.288| 33|      1|\n",
            "|          5|    116|           74|            0|      0|25.6|                   0.201| 30|      0|\n",
            "|          3|     78|           50|           32|     88|31.0|                   0.248| 26|      1|\n",
            "|         10|    115|            0|            0|      0|35.3|                   0.134| 29|      0|\n",
            "|          2|    197|           70|           45|    543|30.5|                   0.158| 53|      1|\n",
            "|          8|    125|           96|            0|      0| 0.0|                   0.232| 54|      1|\n",
            "|          4|    110|           92|            0|      0|37.6|                   0.191| 30|      0|\n",
            "|         10|    168|           74|            0|      0|38.0|                   0.537| 34|      1|\n",
            "|         10|    139|           80|            0|      0|27.1|                   1.441| 57|      0|\n",
            "|          1|    189|           60|           23|    846|30.1|                   0.398| 59|      1|\n",
            "|          5|    166|           72|           19|    175|25.8|                   0.587| 51|      1|\n",
            "|          7|    100|            0|            0|      0|30.0|                   0.484| 32|      1|\n",
            "|          0|    118|           84|           47|    230|45.8|                   0.551| 31|      1|\n",
            "|          7|    107|           74|            0|      0|29.6|                   0.254| 31|      1|\n",
            "|          1|    103|           30|           38|     83|43.3|                   0.183| 33|      0|\n",
            "|          1|    115|           70|           30|     96|34.6|                   0.529| 32|      1|\n",
            "+-----------+-------+-------------+-------------+-------+----+------------------------+---+-------+\n",
            "only showing top 20 rows\n",
            "\n"
          ]
        }
      ]
    },
    {
      "cell_type": "markdown",
      "source": [
        "##DataFrames Filter Operations\n",
        "##Filter Operation\n"
      ],
      "metadata": {
        "id": "2I5kKKNxDtm_"
      }
    },
    {
      "cell_type": "code",
      "source": [
        "df_pyspark1=spark.read.csv('/content/drive/MyDrive/a_diabetes.csv',header=True,inferSchema=True)"
      ],
      "metadata": {
        "id": "KhPaRMvuJn5I"
      },
      "execution_count": 28,
      "outputs": []
    },
    {
      "cell_type": "code",
      "source": [
        "df_pyspark1.printSchema()\n",
        "df_pyspark1.show()"
      ],
      "metadata": {
        "colab": {
          "base_uri": "https://localhost:8080/"
        },
        "id": "_0g12EYlJyFu",
        "outputId": "29526bd5-54fa-43d0-a381-ec0d24c49d13"
      },
      "execution_count": 29,
      "outputs": [
        {
          "output_type": "stream",
          "name": "stdout",
          "text": [
            "root\n",
            " |-- Pregnancies: integer (nullable = true)\n",
            " |-- Glucose: integer (nullable = true)\n",
            " |-- BloodPressure: integer (nullable = true)\n",
            " |-- SkinThickness: integer (nullable = true)\n",
            " |-- Insulin: integer (nullable = true)\n",
            " |-- BMI: double (nullable = true)\n",
            " |-- DiabetesPedigreeFunction: double (nullable = true)\n",
            " |-- Age: integer (nullable = true)\n",
            " |-- Outcome: integer (nullable = true)\n",
            "\n",
            "+-----------+-------+-------------+-------------+-------+----+------------------------+---+-------+\n",
            "|Pregnancies|Glucose|BloodPressure|SkinThickness|Insulin| BMI|DiabetesPedigreeFunction|Age|Outcome|\n",
            "+-----------+-------+-------------+-------------+-------+----+------------------------+---+-------+\n",
            "|          6|    148|           72|           35|      0|33.6|                   0.627| 50|      1|\n",
            "|          1|     85|           66|           29|      0|26.6|                   0.351| 31|      0|\n",
            "|          8|    183|           64|            0|      0|23.3|                   0.672| 32|      1|\n",
            "|          1|     89|           66|           23|     94|28.1|                   0.167| 21|      0|\n",
            "|          0|    137|           40|           35|    168|43.1|                   2.288| 33|      1|\n",
            "|          5|    116|           74|            0|      0|25.6|                   0.201| 30|      0|\n",
            "|          3|     78|           50|           32|     88|31.0|                   0.248| 26|      1|\n",
            "|         10|    115|            0|            0|      0|35.3|                   0.134| 29|      0|\n",
            "|          2|    197|           70|           45|    543|30.5|                   0.158| 53|      1|\n",
            "|          8|    125|           96|            0|      0| 0.0|                   0.232| 54|      1|\n",
            "|          4|    110|           92|            0|      0|37.6|                   0.191| 30|      0|\n",
            "|         10|    168|           74|            0|      0|38.0|                   0.537| 34|      1|\n",
            "|         10|    139|           80|            0|      0|27.1|                   1.441| 57|      0|\n",
            "|          1|    189|           60|           23|    846|30.1|                   0.398| 59|      1|\n",
            "|          5|    166|           72|           19|    175|25.8|                   0.587| 51|      1|\n",
            "|          7|    100|            0|            0|      0|30.0|                   0.484| 32|      1|\n",
            "|          0|    118|           84|           47|    230|45.8|                   0.551| 31|      1|\n",
            "|          7|    107|           74|            0|      0|29.6|                   0.254| 31|      1|\n",
            "|          1|    103|           30|           38|     83|43.3|                   0.183| 33|      0|\n",
            "|          1|    115|           70|           30|     96|34.6|                   0.529| 32|      1|\n",
            "+-----------+-------+-------------+-------------+-------+----+------------------------+---+-------+\n",
            "only showing top 20 rows\n",
            "\n"
          ]
        }
      ]
    },
    {
      "cell_type": "code",
      "source": [
        "# Applying the filter that is about BloodPressure above 100\n",
        "df_pyspark1.filter(\"BloodPressure>=100\").show()"
      ],
      "metadata": {
        "colab": {
          "base_uri": "https://localhost:8080/"
        },
        "id": "l4iCUEaRDk_3",
        "outputId": "c1f2d240-0625-4bdf-b78a-d62aea5220c7"
      },
      "execution_count": 30,
      "outputs": [
        {
          "output_type": "stream",
          "name": "stdout",
          "text": [
            "+-----------+-------+-------------+-------------+-------+----+------------------------+---+-------+\n",
            "|Pregnancies|Glucose|BloodPressure|SkinThickness|Insulin| BMI|DiabetesPedigreeFunction|Age|Outcome|\n",
            "+-----------+-------+-------------+-------------+-------+----+------------------------+---+-------+\n",
            "|          9|    171|          110|           24|    240|45.4|                   0.721| 54|      1|\n",
            "|          5|    137|          108|            0|      0|48.8|                   0.227| 37|      1|\n",
            "|          1|     96|          122|            0|      0|22.4|                   0.207| 27|      0|\n",
            "|          0|    129|          110|           46|    130|67.1|                   0.319| 26|      1|\n",
            "|          5|    162|          104|            0|      0|37.7|                   0.151| 52|      1|\n",
            "|          5|    103|          108|           37|      0|39.2|                   0.305| 65|      0|\n",
            "|          1|    133|          102|           28|    140|32.8|                   0.234| 45|      1|\n",
            "|          0|     93|          100|           39|     72|43.4|                   1.021| 35|      0|\n",
            "|          8|    105|          100|           36|      0|43.3|                   0.239| 45|      1|\n",
            "|          0|    189|          104|           25|      0|34.3|                   0.435| 41|      1|\n",
            "|          4|    189|          110|           31|      0|28.5|                    0.68| 37|      0|\n",
            "|         11|    127|          106|            0|      0|39.0|                    0.19| 51|      0|\n",
            "|          8|    167|          106|           46|    231|37.6|                   0.165| 43|      1|\n",
            "|         10|     68|          106|           23|     49|35.5|                   0.285| 47|      0|\n",
            "|          3|    123|          100|           35|    240|57.3|                    0.88| 22|      0|\n",
            "|         13|    158|          114|            0|      0|42.3|                   0.257| 44|      1|\n",
            "+-----------+-------+-------------+-------------+-------+----+------------------------+---+-------+\n",
            "\n"
          ]
        }
      ]
    },
    {
      "cell_type": "code",
      "source": [
        "df_pyspark1.filter(\"BloodPressure>=100\").select(['Glucose','BloodPressure']).show()"
      ],
      "metadata": {
        "colab": {
          "base_uri": "https://localhost:8080/"
        },
        "id": "TK57VwALEVtQ",
        "outputId": "760373bb-57f3-47ac-d85f-fbabfb96c19b"
      },
      "execution_count": 31,
      "outputs": [
        {
          "output_type": "stream",
          "name": "stdout",
          "text": [
            "+-------+-------------+\n",
            "|Glucose|BloodPressure|\n",
            "+-------+-------------+\n",
            "|    171|          110|\n",
            "|    137|          108|\n",
            "|     96|          122|\n",
            "|    129|          110|\n",
            "|    162|          104|\n",
            "|    103|          108|\n",
            "|    133|          102|\n",
            "|     93|          100|\n",
            "|    105|          100|\n",
            "|    189|          104|\n",
            "|    189|          110|\n",
            "|    127|          106|\n",
            "|    167|          106|\n",
            "|     68|          106|\n",
            "|    123|          100|\n",
            "|    158|          114|\n",
            "+-------+-------------+\n",
            "\n"
          ]
        }
      ]
    },
    {
      "cell_type": "code",
      "source": [
        "df_pyspark1.filter((df_pyspark1['Insulin']<=200) | \n",
        "                  (df_pyspark1['Insulin']>=250)).show()"
      ],
      "metadata": {
        "colab": {
          "base_uri": "https://localhost:8080/"
        },
        "id": "XGh-0kT1GcUr",
        "outputId": "f60ad173-599c-4129-c6b2-b95459f14576"
      },
      "execution_count": 32,
      "outputs": [
        {
          "output_type": "stream",
          "name": "stdout",
          "text": [
            "+-----------+-------+-------------+-------------+-------+----+------------------------+---+-------+\n",
            "|Pregnancies|Glucose|BloodPressure|SkinThickness|Insulin| BMI|DiabetesPedigreeFunction|Age|Outcome|\n",
            "+-----------+-------+-------------+-------------+-------+----+------------------------+---+-------+\n",
            "|          6|    148|           72|           35|      0|33.6|                   0.627| 50|      1|\n",
            "|          1|     85|           66|           29|      0|26.6|                   0.351| 31|      0|\n",
            "|          8|    183|           64|            0|      0|23.3|                   0.672| 32|      1|\n",
            "|          1|     89|           66|           23|     94|28.1|                   0.167| 21|      0|\n",
            "|          0|    137|           40|           35|    168|43.1|                   2.288| 33|      1|\n",
            "|          5|    116|           74|            0|      0|25.6|                   0.201| 30|      0|\n",
            "|          3|     78|           50|           32|     88|31.0|                   0.248| 26|      1|\n",
            "|         10|    115|            0|            0|      0|35.3|                   0.134| 29|      0|\n",
            "|          2|    197|           70|           45|    543|30.5|                   0.158| 53|      1|\n",
            "|          8|    125|           96|            0|      0| 0.0|                   0.232| 54|      1|\n",
            "|          4|    110|           92|            0|      0|37.6|                   0.191| 30|      0|\n",
            "|         10|    168|           74|            0|      0|38.0|                   0.537| 34|      1|\n",
            "|         10|    139|           80|            0|      0|27.1|                   1.441| 57|      0|\n",
            "|          1|    189|           60|           23|    846|30.1|                   0.398| 59|      1|\n",
            "|          5|    166|           72|           19|    175|25.8|                   0.587| 51|      1|\n",
            "|          7|    100|            0|            0|      0|30.0|                   0.484| 32|      1|\n",
            "|          7|    107|           74|            0|      0|29.6|                   0.254| 31|      1|\n",
            "|          1|    103|           30|           38|     83|43.3|                   0.183| 33|      0|\n",
            "|          1|    115|           70|           30|     96|34.6|                   0.529| 32|      1|\n",
            "|          8|     99|           84|            0|      0|35.4|                   0.388| 50|      0|\n",
            "+-----------+-------+-------------+-------------+-------+----+------------------------+---+-------+\n",
            "only showing top 20 rows\n",
            "\n"
          ]
        }
      ]
    },
    {
      "cell_type": "markdown",
      "source": [
        "##Pyspark GroupBy And Aggregate Functions"
      ],
      "metadata": {
        "id": "oQRxDMUsKzXB"
      }
    },
    {
      "cell_type": "code",
      "source": [
        "spark=SparkSession.builder.appName('Agg').getOrCreate()"
      ],
      "metadata": {
        "id": "s2-8MY1dKuTq"
      },
      "execution_count": 33,
      "outputs": []
    },
    {
      "cell_type": "code",
      "source": [
        "spark"
      ],
      "metadata": {
        "colab": {
          "base_uri": "https://localhost:8080/",
          "height": 219
        },
        "id": "WYsUe4G1K75w",
        "outputId": "e564320f-f8a6-409f-d30e-ac0ff9993d61"
      },
      "execution_count": 34,
      "outputs": [
        {
          "output_type": "execute_result",
          "data": {
            "text/plain": [
              "<pyspark.sql.session.SparkSession at 0x7fb2985eb970>"
            ],
            "text/html": [
              "\n",
              "            <div>\n",
              "                <p><b>SparkSession - in-memory</b></p>\n",
              "                \n",
              "        <div>\n",
              "            <p><b>SparkContext</b></p>\n",
              "\n",
              "            <p><a href=\"http://f6b3251f50bc:4040\">Spark UI</a></p>\n",
              "\n",
              "            <dl>\n",
              "              <dt>Version</dt>\n",
              "                <dd><code>v3.4.0</code></dd>\n",
              "              <dt>Master</dt>\n",
              "                <dd><code>local[*]</code></dd>\n",
              "              <dt>AppName</dt>\n",
              "                <dd><code>Dataframe</code></dd>\n",
              "            </dl>\n",
              "        </div>\n",
              "        \n",
              "            </div>\n",
              "        "
            ]
          },
          "metadata": {},
          "execution_count": 34
        }
      ]
    },
    {
      "cell_type": "code",
      "source": [
        "df_pyspark=spark.read.csv('/content/drive/MyDrive/a_diabetes.csv',header=True,inferSchema=True)"
      ],
      "metadata": {
        "id": "8bOXSllCK9lo"
      },
      "execution_count": 35,
      "outputs": []
    },
    {
      "cell_type": "code",
      "source": [
        "df_pyspark.show()"
      ],
      "metadata": {
        "colab": {
          "base_uri": "https://localhost:8080/"
        },
        "id": "H3Xi5eXwLDRO",
        "outputId": "caf019ba-430d-4718-cbd7-4cafcc2ad710"
      },
      "execution_count": 36,
      "outputs": [
        {
          "output_type": "stream",
          "name": "stdout",
          "text": [
            "+-----------+-------+-------------+-------------+-------+----+------------------------+---+-------+\n",
            "|Pregnancies|Glucose|BloodPressure|SkinThickness|Insulin| BMI|DiabetesPedigreeFunction|Age|Outcome|\n",
            "+-----------+-------+-------------+-------------+-------+----+------------------------+---+-------+\n",
            "|          6|    148|           72|           35|      0|33.6|                   0.627| 50|      1|\n",
            "|          1|     85|           66|           29|      0|26.6|                   0.351| 31|      0|\n",
            "|          8|    183|           64|            0|      0|23.3|                   0.672| 32|      1|\n",
            "|          1|     89|           66|           23|     94|28.1|                   0.167| 21|      0|\n",
            "|          0|    137|           40|           35|    168|43.1|                   2.288| 33|      1|\n",
            "|          5|    116|           74|            0|      0|25.6|                   0.201| 30|      0|\n",
            "|          3|     78|           50|           32|     88|31.0|                   0.248| 26|      1|\n",
            "|         10|    115|            0|            0|      0|35.3|                   0.134| 29|      0|\n",
            "|          2|    197|           70|           45|    543|30.5|                   0.158| 53|      1|\n",
            "|          8|    125|           96|            0|      0| 0.0|                   0.232| 54|      1|\n",
            "|          4|    110|           92|            0|      0|37.6|                   0.191| 30|      0|\n",
            "|         10|    168|           74|            0|      0|38.0|                   0.537| 34|      1|\n",
            "|         10|    139|           80|            0|      0|27.1|                   1.441| 57|      0|\n",
            "|          1|    189|           60|           23|    846|30.1|                   0.398| 59|      1|\n",
            "|          5|    166|           72|           19|    175|25.8|                   0.587| 51|      1|\n",
            "|          7|    100|            0|            0|      0|30.0|                   0.484| 32|      1|\n",
            "|          0|    118|           84|           47|    230|45.8|                   0.551| 31|      1|\n",
            "|          7|    107|           74|            0|      0|29.6|                   0.254| 31|      1|\n",
            "|          1|    103|           30|           38|     83|43.3|                   0.183| 33|      0|\n",
            "|          1|    115|           70|           30|     96|34.6|                   0.529| 32|      1|\n",
            "+-----------+-------+-------------+-------------+-------+----+------------------------+---+-------+\n",
            "only showing top 20 rows\n",
            "\n"
          ]
        }
      ]
    },
    {
      "cell_type": "code",
      "source": [
        "df_pyspark.printSchema()"
      ],
      "metadata": {
        "colab": {
          "base_uri": "https://localhost:8080/"
        },
        "id": "612IL-6rLGqn",
        "outputId": "95257b4a-bfbb-4531-ca44-55c934980650"
      },
      "execution_count": 37,
      "outputs": [
        {
          "output_type": "stream",
          "name": "stdout",
          "text": [
            "root\n",
            " |-- Pregnancies: integer (nullable = true)\n",
            " |-- Glucose: integer (nullable = true)\n",
            " |-- BloodPressure: integer (nullable = true)\n",
            " |-- SkinThickness: integer (nullable = true)\n",
            " |-- Insulin: integer (nullable = true)\n",
            " |-- BMI: double (nullable = true)\n",
            " |-- DiabetesPedigreeFunction: double (nullable = true)\n",
            " |-- Age: integer (nullable = true)\n",
            " |-- Outcome: integer (nullable = true)\n",
            "\n"
          ]
        }
      ]
    },
    {
      "cell_type": "code",
      "source": [
        "df_pyspark.groupBy('outcome').sum().show()"
      ],
      "metadata": {
        "colab": {
          "base_uri": "https://localhost:8080/"
        },
        "id": "qxQFcMwnLNGp",
        "outputId": "77da6484-278e-4fc7-f8cc-73530f7661d7"
      },
      "execution_count": 38,
      "outputs": [
        {
          "output_type": "stream",
          "name": "stdout",
          "text": [
            "+-------+----------------+------------+------------------+------------------+------------+-----------------+-----------------------------+--------+------------+\n",
            "|outcome|sum(Pregnancies)|sum(Glucose)|sum(BloodPressure)|sum(SkinThickness)|sum(Insulin)|         sum(BMI)|sum(DiabetesPedigreeFunction)|sum(Age)|sum(Outcome)|\n",
            "+-------+----------------+------------+------------------+------------------+------------+-----------------+-----------------------------+--------+------------+\n",
            "|      1|            1304|       37857|             18981|              5940|       26890|9418.199999999986|                      147.534|    9934|         268|\n",
            "|      0|            1649|       54990|             34092|              9832|       34396|15152.09999999998|           214.86700000000008|   15595|           0|\n",
            "+-------+----------------+------------+------------------+------------------+------------+-----------------+-----------------------------+--------+------------+\n",
            "\n"
          ]
        }
      ]
    },
    {
      "cell_type": "code",
      "source": [
        "df_pyspark.groupBy('Glucose').avg().show()"
      ],
      "metadata": {
        "colab": {
          "base_uri": "https://localhost:8080/"
        },
        "id": "vxiIKlC3LVpd",
        "outputId": "acd10dd1-bde9-460a-bad7-414834eb4cf2"
      },
      "execution_count": 39,
      "outputs": [
        {
          "output_type": "stream",
          "name": "stdout",
          "text": [
            "+-------+------------------+------------+------------------+------------------+------------------+------------------+-----------------------------+------------------+-------------------+\n",
            "|Glucose|  avg(Pregnancies)|avg(Glucose)|avg(BloodPressure)|avg(SkinThickness)|      avg(Insulin)|          avg(BMI)|avg(DiabetesPedigreeFunction)|          avg(Age)|       avg(Outcome)|\n",
            "+-------+------------------+------------+------------------+------------------+------------------+------------------+-----------------------------+------------------+-------------------+\n",
            "|    148|              5.75|       148.0|              70.5|             33.75|            138.75|             33.65|                       0.5085|              38.0|               0.75|\n",
            "|     85| 5.285714285714286|        85.0| 67.14285714285714|13.285714285714286|               7.0|29.814285714285717|           0.5184285714285715|33.857142857142854|0.14285714285714285|\n",
            "|    137|              2.75|       137.0|            75.625|            19.375|              39.5|            33.075|          0.48162499999999986|              37.0|               0.25|\n",
            "|     65|               8.0|        65.0|              72.0|              23.0|               0.0|              32.0|                          0.6|              42.0|                0.0|\n",
            "|    133|               6.6|       133.0|              82.8|               8.6|              59.0|             33.06|                       0.3414|              38.8|                0.4|\n",
            "|     78|              2.75|        78.0|              64.0|             15.25|              32.0|            33.525|                       0.4015|             27.75|               0.25|\n",
            "|    155|               5.6|       155.0|              69.6|              28.4|             365.2|34.260000000000005|                       0.6376|              36.6|                0.8|\n",
            "|    108|3.3846153846153846|       108.0| 65.38461538461539| 18.46153846153846|              60.0|29.207692307692312|           0.4516923076923077|29.692307692307693|0.23076923076923078|\n",
            "|    193|               2.0|       193.0|              60.0|              23.5|             187.5|              30.4|                        0.448|              24.5|                0.5|\n",
            "|    115|               5.6|       115.0|              60.4|              13.0|              23.6|             30.95|          0.36900000000000005|              33.2|                0.6|\n",
            "|    126| 4.333333333333333|       126.0| 78.22222222222223| 25.22222222222222|             103.0| 32.62222222222223|           0.4913333333333333| 34.44444444444444| 0.2222222222222222|\n",
            "|    101|2.7777777777777777|       101.0| 66.11111111111111| 21.88888888888889| 63.44444444444444| 27.98888888888889|          0.40277777777777773|29.555555555555557| 0.1111111111111111|\n",
            "|     81|2.6666666666666665|        81.0| 73.66666666666667|25.333333333333332|47.833333333333336|             34.15|           0.4638333333333334|28.333333333333332|                0.0|\n",
            "|    183|               6.0|       183.0|52.666666666666664|               0.0|               0.0|30.833333333333332|           0.7816666666666667|37.666666666666664| 0.6666666666666666|\n",
            "|     76|               8.5|        76.0|              61.0|               0.0|               0.0|              33.4|                       0.2855|              33.0|                0.0|\n",
            "|    159|               7.0|       159.0|              65.0|               0.0|               0.0|              28.9|                       0.3385|              38.0|                0.5|\n",
            "|     44|               5.0|        44.0|              62.0|               0.0|               0.0|              25.0|                        0.587|              36.0|                0.0|\n",
            "|    103| 4.888888888888889|       103.0| 69.11111111111111| 28.11111111111111| 77.66666666666667|33.422222222222224|           0.4131111111111111| 37.44444444444444| 0.1111111111111111|\n",
            "|     91|3.4444444444444446|        91.0|60.888888888888886|12.555555555555555| 44.22222222222222|30.744444444444444|          0.40744444444444444|              33.0|                0.0|\n",
            "|    128| 2.090909090909091|       128.0|  75.0909090909091| 24.09090909090909| 99.72727272727273| 33.88181818181818|           0.7350909090909091|31.545454545454547| 0.5454545454545454|\n",
            "+-------+------------------+------------+------------------+------------------+------------------+------------------+-----------------------------+------------------+-------------------+\n",
            "only showing top 20 rows\n",
            "\n"
          ]
        }
      ]
    },
    {
      "cell_type": "code",
      "source": [
        "df_pyspark.groupBy('Insulin').sum().show()"
      ],
      "metadata": {
        "colab": {
          "base_uri": "https://localhost:8080/"
        },
        "id": "zsXgf5QwLfBr",
        "outputId": "aee9b6eb-8bc2-44d3-eb7a-102087165b34"
      },
      "execution_count": 40,
      "outputs": [
        {
          "output_type": "stream",
          "name": "stdout",
          "text": [
            "+-------+----------------+------------+------------------+------------------+------------+------------------+-----------------------------+--------+------------+\n",
            "|Insulin|sum(Pregnancies)|sum(Glucose)|sum(BloodPressure)|sum(SkinThickness)|sum(Insulin)|          sum(BMI)|sum(DiabetesPedigreeFunction)|sum(Age)|sum(Outcome)|\n",
            "+-------+----------------+------------+------------------+------------------+------------+------------------+-----------------------------+--------+------------+\n",
            "|    148|               0|         243|               138|                51|         296|              64.2|                        0.748|      43|           0|\n",
            "|    540|               2|         155|                52|                27|         540|              38.7|                         0.24|      25|           1|\n",
            "|    392|               7|         187|                50|                33|         392|              33.9|                        0.826|      34|           1|\n",
            "|     85|               6|         202|               124|                26|         170|              59.9|                        1.177|      63|           0|\n",
            "|     65|               1|          86|                66|                52|          65|              41.3|                        0.917|      29|           0|\n",
            "|     53|               2|         205|               154|                50|         106|              74.2|                        0.318|      46|           0|\n",
            "|    255|               0|         165|                76|                43|         255|              47.9|                        0.259|      26|           0|\n",
            "|     78|               3|         213|               154|                58|         156|              69.0|                        0.991|      50|           0|\n",
            "|    321|               7|         168|                88|                42|         321|              38.2|                        0.787|      40|           1|\n",
            "|    375|               1|         193|                50|                16|         375|              25.9|                        0.655|      24|           0|\n",
            "|    155|              23|         545|               354|               103|         620|             137.6|                        3.017|     139|           2|\n",
            "|    744|               4|         197|                70|                39|         744|              36.7|                        2.329|      31|           0|\n",
            "|    108|               8|         126|                88|                36|         108|              38.5|                        0.349|      49|           0|\n",
            "|    193|               6|         154|                74|                32|         193|              29.3|                        0.839|      39|           0|\n",
            "|    115|              19|         610|               376|               161|         690|             191.1|           3.8850000000000002|     182|           2|\n",
            "|    126|              17|         396|               212|                90|         378|              98.5|                        1.115|     137|           1|\n",
            "|     81|               3|         100|                68|                23|          81|              31.6|                        0.949|      28|           0|\n",
            "|    210|              13|         666|               372|               159|        1050|180.59999999999997|                        2.303|     134|           2|\n",
            "|    183|               1|         128|                82|                17|         183|              27.5|                        0.115|      22|           0|\n",
            "|    300|               8|         176|                90|                34|         300|              33.7|                        0.467|      58|           1|\n",
            "+-------+----------------+------------+------------------+------------------+------------+------------------+-----------------------------+--------+------------+\n",
            "only showing top 20 rows\n",
            "\n"
          ]
        }
      ]
    },
    {
      "cell_type": "code",
      "source": [
        "df_pyspark_model1=df_pyspark_model.na.drop().show() ## With no Null values for Model training"
      ],
      "metadata": {
        "colab": {
          "base_uri": "https://localhost:8080/"
        },
        "id": "mZIQd8trLzUx",
        "outputId": "476ee597-7bb8-4113-8fa2-082d4befe456"
      },
      "execution_count": 41,
      "outputs": [
        {
          "output_type": "stream",
          "name": "stdout",
          "text": [
            "+-----------+-------+-------------+-------------+-------+----+------------------------+---+-------+\n",
            "|Pregnancies|Glucose|BloodPressure|SkinThickness|Insulin| BMI|DiabetesPedigreeFunction|Age|Outcome|\n",
            "+-----------+-------+-------------+-------------+-------+----+------------------------+---+-------+\n",
            "|          3|     78|           50|           32|     88|31.0|                   0.248| 26|      1|\n",
            "|          2|    197|           70|           45|    543|30.5|                   0.158| 53|      1|\n",
            "|          1|    189|           60|           23|    846|30.1|                   0.398| 59|      1|\n",
            "|          5|    166|           72|           19|    175|25.8|                   0.587| 51|      1|\n",
            "|          1|    115|           70|           30|     96|34.6|                   0.529| 32|      1|\n",
            "|         11|    143|           94|           33|    146|36.6|                   0.254| 51|      1|\n",
            "|         10|    125|           70|           26|    115|31.1|                   0.205| 41|      1|\n",
            "|          3|    158|           76|           36|    245|31.6|                   0.851| 28|      1|\n",
            "|          4|    111|           72|           47|    207|37.1|                    1.39| 56|      1|\n",
            "|          9|    171|          110|           24|    240|45.4|                   0.721| 54|      1|\n",
            "|          8|    176|           90|           34|    300|33.7|                   0.467| 58|      1|\n",
            "|          7|    187|           68|           39|    304|37.7|                   0.254| 41|      1|\n",
            "|          2|    100|           66|           20|     90|32.9|                   0.867| 28|      1|\n",
            "|         15|    136|           70|           32|    110|37.1|                   0.153| 43|      1|\n",
            "|          1|    122|           90|           51|    220|49.7|                   0.325| 31|      1|\n",
            "|          3|    171|           72|           33|    135|33.3|                   0.199| 24|      1|\n",
            "|          8|    155|           62|           26|    495|34.0|                   0.543| 46|      1|\n",
            "|          7|    160|           54|           32|    175|30.5|                   0.588| 39|      1|\n",
            "|          1|     88|           30|           42|     99|55.0|                   0.496| 26|      1|\n",
            "|          1|    117|           88|           24|    145|34.5|                   0.403| 40|      1|\n",
            "+-----------+-------+-------------+-------------+-------+----+------------------------+---+-------+\n",
            "only showing top 20 rows\n",
            "\n"
          ]
        }
      ]
    },
    {
      "cell_type": "markdown",
      "source": [
        "#Model\n",
        "##Logistic Regression"
      ],
      "metadata": {
        "id": "GFas5FzZOiNt"
      }
    },
    {
      "cell_type": "code",
      "source": [
        "from sklearn.linear_model import LogisticRegression\n",
        "from sklearn.preprocessing import StandardScaler\n",
        "from sklearn.pipeline import Pipeline\n",
        "from sklearn.model_selection import train_test_split\n",
        "from imblearn.over_sampling import SMOTE"
      ],
      "metadata": {
        "id": "xubigty1O33y"
      },
      "execution_count": 42,
      "outputs": []
    },
    {
      "cell_type": "code",
      "source": [
        "from pyspark.sql import SparkSession\n",
        "\n",
        "spark = SparkSession.builder.getOrCreate()\n",
        "\n",
        "# Read the CSV file into a DataFrame\n",
        "df_pyspark = spark.read.csv(\"/content/drive/MyDrive/a_diabetes.csv\", header=True, inferSchema=True)\n",
        "\n",
        "# Show the DataFrame\n",
        "df_pyspark.show()\n"
      ],
      "metadata": {
        "colab": {
          "base_uri": "https://localhost:8080/"
        },
        "id": "peHaslB3O7oC",
        "outputId": "0e29bc77-214a-4033-e313-d55abadb4d56"
      },
      "execution_count": 43,
      "outputs": [
        {
          "output_type": "stream",
          "name": "stdout",
          "text": [
            "+-----------+-------+-------------+-------------+-------+----+------------------------+---+-------+\n",
            "|Pregnancies|Glucose|BloodPressure|SkinThickness|Insulin| BMI|DiabetesPedigreeFunction|Age|Outcome|\n",
            "+-----------+-------+-------------+-------------+-------+----+------------------------+---+-------+\n",
            "|          6|    148|           72|           35|      0|33.6|                   0.627| 50|      1|\n",
            "|          1|     85|           66|           29|      0|26.6|                   0.351| 31|      0|\n",
            "|          8|    183|           64|            0|      0|23.3|                   0.672| 32|      1|\n",
            "|          1|     89|           66|           23|     94|28.1|                   0.167| 21|      0|\n",
            "|          0|    137|           40|           35|    168|43.1|                   2.288| 33|      1|\n",
            "|          5|    116|           74|            0|      0|25.6|                   0.201| 30|      0|\n",
            "|          3|     78|           50|           32|     88|31.0|                   0.248| 26|      1|\n",
            "|         10|    115|            0|            0|      0|35.3|                   0.134| 29|      0|\n",
            "|          2|    197|           70|           45|    543|30.5|                   0.158| 53|      1|\n",
            "|          8|    125|           96|            0|      0| 0.0|                   0.232| 54|      1|\n",
            "|          4|    110|           92|            0|      0|37.6|                   0.191| 30|      0|\n",
            "|         10|    168|           74|            0|      0|38.0|                   0.537| 34|      1|\n",
            "|         10|    139|           80|            0|      0|27.1|                   1.441| 57|      0|\n",
            "|          1|    189|           60|           23|    846|30.1|                   0.398| 59|      1|\n",
            "|          5|    166|           72|           19|    175|25.8|                   0.587| 51|      1|\n",
            "|          7|    100|            0|            0|      0|30.0|                   0.484| 32|      1|\n",
            "|          0|    118|           84|           47|    230|45.8|                   0.551| 31|      1|\n",
            "|          7|    107|           74|            0|      0|29.6|                   0.254| 31|      1|\n",
            "|          1|    103|           30|           38|     83|43.3|                   0.183| 33|      0|\n",
            "|          1|    115|           70|           30|     96|34.6|                   0.529| 32|      1|\n",
            "+-----------+-------+-------------+-------------+-------+----+------------------------+---+-------+\n",
            "only showing top 20 rows\n",
            "\n"
          ]
        }
      ]
    },
    {
      "cell_type": "markdown",
      "source": [
        "###Removing 0 values from all columns before training model"
      ],
      "metadata": {
        "id": "7kgGnN_6QdVP"
      }
    },
    {
      "cell_type": "code",
      "source": [
        "from pyspark.sql import SparkSession\n",
        "from pyspark.sql.functions import col\n",
        "\n",
        "spark = SparkSession.builder.getOrCreate()\n",
        "\n",
        "# Assuming you have a DataFrame named df_pyspark\n",
        "\n",
        "# Filter out rows with 0 values in any column\n",
        "df_pyspark_filtered = df_pyspark.filter((col(\"Pregnancies\") != 0) &\n",
        "                                        (col(\"Glucose\") != 0) &\n",
        "                                        (col(\"BloodPressure\") != 0) &\n",
        "                                        (col(\"SkinThickness\") != 0) &\n",
        "                                        (col(\"Insulin\") != 0) &\n",
        "                                        (col(\"BMI\") != 0) &\n",
        "                                        (col(\"DiabetesPedigreeFunction\") != 0) &\n",
        "                                        (col(\"Age\") != 0))\n",
        "\n",
        "# Show the filtered DataFrame\n",
        "df_pyspark_filtered.show()"
      ],
      "metadata": {
        "colab": {
          "base_uri": "https://localhost:8080/"
        },
        "id": "I5_4-6JAO8B4",
        "outputId": "ec640659-4712-43eb-9eb3-85f990dd5d5b"
      },
      "execution_count": 44,
      "outputs": [
        {
          "output_type": "stream",
          "name": "stdout",
          "text": [
            "+-----------+-------+-------------+-------------+-------+----+------------------------+---+-------+\n",
            "|Pregnancies|Glucose|BloodPressure|SkinThickness|Insulin| BMI|DiabetesPedigreeFunction|Age|Outcome|\n",
            "+-----------+-------+-------------+-------------+-------+----+------------------------+---+-------+\n",
            "|          1|     89|           66|           23|     94|28.1|                   0.167| 21|      0|\n",
            "|          3|     78|           50|           32|     88|31.0|                   0.248| 26|      1|\n",
            "|          2|    197|           70|           45|    543|30.5|                   0.158| 53|      1|\n",
            "|          1|    189|           60|           23|    846|30.1|                   0.398| 59|      1|\n",
            "|          5|    166|           72|           19|    175|25.8|                   0.587| 51|      1|\n",
            "|          1|    103|           30|           38|     83|43.3|                   0.183| 33|      0|\n",
            "|          1|    115|           70|           30|     96|34.6|                   0.529| 32|      1|\n",
            "|          3|    126|           88|           41|    235|39.3|                   0.704| 27|      0|\n",
            "|         11|    143|           94|           33|    146|36.6|                   0.254| 51|      1|\n",
            "|         10|    125|           70|           26|    115|31.1|                   0.205| 41|      1|\n",
            "|          1|     97|           66|           15|    140|23.2|                   0.487| 22|      0|\n",
            "|         13|    145|           82|           19|    110|22.2|                   0.245| 57|      0|\n",
            "|          3|    158|           76|           36|    245|31.6|                   0.851| 28|      1|\n",
            "|          3|     88|           58|           11|     54|24.8|                   0.267| 22|      0|\n",
            "|          4|    103|           60|           33|    192|24.0|                   0.966| 33|      0|\n",
            "|          4|    111|           72|           47|    207|37.1|                    1.39| 56|      1|\n",
            "|          3|    180|           64|           25|     70|34.0|                   0.271| 26|      0|\n",
            "|          9|    171|          110|           24|    240|45.4|                   0.721| 54|      1|\n",
            "|          1|    103|           80|           11|     82|19.4|                   0.491| 22|      0|\n",
            "|          1|    101|           50|           15|     36|24.2|                   0.526| 26|      0|\n",
            "+-----------+-------+-------------+-------------+-------+----+------------------------+---+-------+\n",
            "only showing top 20 rows\n",
            "\n"
          ]
        }
      ]
    },
    {
      "cell_type": "code",
      "source": [
        "X = df_pyspark_filtered.drop('Outcome')  # predictor variables\n",
        "y = df_pyspark_filtered['Outcome']  # outcome variable"
      ],
      "metadata": {
        "id": "lhi2A1rRQav_"
      },
      "execution_count": 45,
      "outputs": []
    },
    {
      "cell_type": "markdown",
      "source": [
        "##Data Transformation "
      ],
      "metadata": {
        "id": "j8MEMfEAaw7-"
      }
    },
    {
      "cell_type": "code",
      "source": [
        "from pyspark.ml.feature import MinMaxScaler\n",
        "from pyspark.ml.feature import VectorAssembler\n",
        "from pyspark.ml.classification import LogisticRegression\n",
        "from pyspark.ml import Pipeline\n",
        "\n",
        "# Assuming you have a DataFrame named df_pyspark_filtered\n",
        "\n",
        "# Selecting the feature columns\n",
        "feature_columns = ['Pregnancies', 'Glucose', 'BloodPressure', 'SkinThickness', 'Insulin', 'BMI', 'DiabetesPedigreeFunction', 'Age']\n",
        "\n",
        "# Creating a VectorAssembler to combine the feature columns into a single vector column\n",
        "assembler = VectorAssembler(inputCols=feature_columns, outputCol='features')\n",
        "\n",
        "# Applying MinMaxScaler to normalize the features\n",
        "scaler = MinMaxScaler(inputCol='features', outputCol='scaled_features')\n",
        "\n",
        "# Creating a logistic regression model\n",
        "logistic_reg = LogisticRegression(featuresCol='scaled_features', labelCol='Outcome')\n",
        "\n",
        "# Creating a pipeline to chain the stages\n",
        "pipeline = Pipeline(stages=[assembler, scaler, logistic_reg])\n",
        "\n",
        "# Fitting the pipeline to the data\n",
        "model = pipeline.fit(df_pyspark_filtered)\n",
        "\n",
        "# Transforming the data using the trained model\n",
        "transformed_data = model.transform(df_pyspark_filtered)\n",
        "\n",
        "# Selecting the required columns for logistic regression (features and label)\n",
        "selected_data = transformed_data.select('scaled_features', 'Outcome')\n",
        "\n",
        "# Renaming the scaled features column to \"features\" (required for logistic regression)\n",
        "selected_data = selected_data.withColumnRenamed('scaled_features', 'features')\n",
        "\n",
        "# Displaying the transformed data\n",
        "selected_data.show()\n"
      ],
      "metadata": {
        "colab": {
          "base_uri": "https://localhost:8080/"
        },
        "id": "xM0lAez-Zg6x",
        "outputId": "f84209c8-60af-4e41-9343-86b3f23a1364"
      },
      "execution_count": 48,
      "outputs": [
        {
          "output_type": "stream",
          "name": "stdout",
          "text": [
            "+--------------------+-------+\n",
            "|            features|Outcome|\n",
            "+--------------------+-------+\n",
            "|[0.0,0.2340425531...|      0|\n",
            "|[0.125,0.15602836...|      1|\n",
            "|[0.0625,1.0,0.534...|      1|\n",
            "|[0.0,0.9432624113...|      1|\n",
            "|[0.25,0.780141843...|      1|\n",
            "|[0.0,0.3333333333...|      0|\n",
            "|[0.0,0.4184397163...|      1|\n",
            "|[0.125,0.49645390...|      0|\n",
            "|[0.625,0.61702127...|      1|\n",
            "|[0.5625,0.4893617...|      1|\n",
            "|[0.0,0.2907801418...|      0|\n",
            "|[0.75,0.631205673...|      0|\n",
            "|[0.125,0.72340425...|      1|\n",
            "|[0.125,0.22695035...|      0|\n",
            "|[0.1875,0.3333333...|      0|\n",
            "|[0.1875,0.3900709...|      1|\n",
            "|[0.125,0.87943262...|      0|\n",
            "|[0.5,0.8156028368...|      1|\n",
            "|[0.0,0.3333333333...|      0|\n",
            "|[0.0,0.3191489361...|      0|\n",
            "+--------------------+-------+\n",
            "only showing top 20 rows\n",
            "\n"
          ]
        }
      ]
    },
    {
      "cell_type": "code",
      "source": [
        "from pyspark.sql.functions import rand\n",
        "from pyspark.ml.feature import VectorAssembler\n",
        "from pyspark.ml.feature import StringIndexer\n",
        "from pyspark.ml import Pipeline\n",
        "\n",
        "# Add a random column to the DataFrame for splitting\n",
        "df_pyspark = df_pyspark.withColumn(\"rand\", rand())\n",
        "\n",
        "# Split the DataFrame into training and testing sets\n",
        "train_data, test_data = df_pyspark.randomSplit([0.8, 0.2], seed=42)\n",
        "\n",
        "# Define the features and label column names\n",
        "feature_cols = df_pyspark.columns[:-1]\n",
        "label_col = df_pyspark.columns[-1]\n",
        "\n",
        "# Assemble the features into a vector column\n",
        "assembler = VectorAssembler(inputCols=feature_cols, outputCol=\"features\")\n",
        "\n",
        "# Convert the label column into numerical values\n",
        "label_indexer = StringIndexer(inputCol=label_col, outputCol=\"label\")\n",
        "\n",
        "# Create a pipeline to apply the transformations\n",
        "pipeline = Pipeline(stages=[assembler, label_indexer])\n",
        "\n",
        "# Fit and transform the training data\n",
        "pipeline_model = pipeline.fit(train_data)\n",
        "train_data_transformed = pipeline_model.transform(train_data)\n",
        "\n",
        "# Fit and transform the testing data\n",
        "test_data_transformed = pipeline_model.transform(test_data)\n",
        "\n",
        "# Assign the predictor variables and the outcome variable for training and testing\n",
        "X_train = train_data_transformed.select(\"features\")\n",
        "y_train = train_data_transformed.select(\"label\")\n",
        "X_test = test_data_transformed.select(\"features\")\n",
        "y_test = test_data_transformed.select(\"label\")\n",
        "\n",
        "# Drop the random column from the DataFrames\n",
        "train_data = train_data.drop(\"rand\")\n",
        "test_data = test_data.drop(\"rand\")\n"
      ],
      "metadata": {
        "id": "y56DeQaiQ6s5"
      },
      "execution_count": 49,
      "outputs": []
    },
    {
      "cell_type": "code",
      "source": [
        "from sklearn.linear_model import LogisticRegression"
      ],
      "metadata": {
        "id": "c58YjsOiShin"
      },
      "execution_count": 50,
      "outputs": []
    },
    {
      "cell_type": "code",
      "source": [
        "logistic_model=LogisticRegression()\n"
      ],
      "metadata": {
        "id": "wjdTeob3U2Lm"
      },
      "execution_count": 51,
      "outputs": []
    },
    {
      "cell_type": "code",
      "source": [
        "from pyspark.ml.classification import LogisticRegression\n",
        "from pyspark.ml.evaluation import BinaryClassificationEvaluator\n",
        "from pyspark.ml.feature import VectorAssembler\n",
        "from pyspark.sql import SparkSession\n",
        "\n",
        "# Create a SparkSession\n",
        "spark = SparkSession.builder.getOrCreate()\n",
        "\n",
        "# Load the CSV data into a DataFrame\n",
        "df_pyspark = spark.read.csv('/content/drive/MyDrive/a_diabetes.csv', header=True, inferSchema=True)\n",
        "\n",
        "# Remove rows with 0 values\n",
        "df_pyspark = df_pyspark.filter((df_pyspark[\"Glucose\"] != 0) & (df_pyspark[\"BMI\"] != 0))\n",
        "\n",
        "# Select the predictor variables and outcome variable\n",
        "columns = df_pyspark.columns\n",
        "columns.remove('Outcome')\n",
        "predictor_cols = columns\n",
        "\n",
        "# Create a vector assembler to combine the features into a single vector column\n",
        "assembler = VectorAssembler(inputCols=predictor_cols, outputCol='features')\n",
        "\n",
        "# Transform the data\n",
        "df_pyspark_model = assembler.transform(df_pyspark).select('features', 'Outcome')\n",
        "\n",
        "# Split the data into training and testing sets\n",
        "(train_data, test_data) = df_pyspark_model.randomSplit([0.8, 0.2], seed=42)\n",
        "\n",
        "# Create a logistic regression model\n",
        "logistic_model = LogisticRegression(labelCol='Outcome')\n",
        "\n",
        "# Fit the model to the training data\n",
        "logistic_model = logistic_model.fit(train_data)\n",
        "\n",
        "# Make predictions on the testing data\n",
        "predictions = logistic_model.transform(test_data)\n",
        "\n",
        "# Evaluate the model\n",
        "evaluator = BinaryClassificationEvaluator(labelCol='Outcome')\n",
        "accuracy = evaluator.evaluate(predictions)\n",
        "\n",
        "# Print the accuracy\n",
        "print(\"Accuracy: {:.2f}%\".format(accuracy * 100))\n"
      ],
      "metadata": {
        "colab": {
          "base_uri": "https://localhost:8080/"
        },
        "id": "fmlbOKO9U6An",
        "outputId": "c8bf89e1-ec87-400b-802e-03c993f2c033"
      },
      "execution_count": 52,
      "outputs": [
        {
          "output_type": "stream",
          "name": "stdout",
          "text": [
            "Accuracy: 84.86%\n"
          ]
        }
      ]
    },
    {
      "cell_type": "markdown",
      "source": [
        "#Accuracy: 84.86%"
      ],
      "metadata": {
        "id": "tKclEMqveQu3"
      }
    },
    {
      "cell_type": "markdown",
      "source": [
        "## Make predictions on the test data"
      ],
      "metadata": {
        "id": "z1ISXjasYRRL"
      }
    },
    {
      "cell_type": "code",
      "source": [
        "# Make predictions on the test data\n",
        "predictions = logistic_model.transform(test_data)\n",
        "\n",
        "# Select the columns of interest from the predictions\n",
        "prediction_result = predictions.select('features', 'Outcome', 'prediction', 'probability')\n",
        "\n",
        "# Show the prediction result\n",
        "prediction_result.show(truncate=False)\n"
      ],
      "metadata": {
        "colab": {
          "base_uri": "https://localhost:8080/"
        },
        "id": "xtOG9e14U867",
        "outputId": "4897f1f2-030c-4be8-a154-652a94f13804"
      },
      "execution_count": 53,
      "outputs": [
        {
          "output_type": "stream",
          "name": "stdout",
          "text": [
            "+-------------------------------------------+-------+----------+-----------------------------------------+\n",
            "|features                                   |Outcome|prediction|probability                              |\n",
            "+-------------------------------------------+-------+----------+-----------------------------------------+\n",
            "|(8,[1,5,6,7],[117.0,33.8,0.932,44.0])      |0      |1.0       |[0.43100474109229114,0.5689952589077089] |\n",
            "|(8,[1,5,6,7],[141.0,42.4,0.205,29.0])      |1      |1.0       |[0.2364474352854343,0.7635525647145657]  |\n",
            "|(8,[1,5,6,7],[167.0,32.3,0.839,30.0])      |1      |1.0       |[0.1434790068616127,0.8565209931383873]  |\n",
            "|[0.0,84.0,64.0,22.0,66.0,35.8,0.545,21.0]  |0      |0.0       |[0.9233119098896643,0.07668809011033573] |\n",
            "|[0.0,93.0,60.0,25.0,92.0,28.7,0.532,22.0]  |0      |0.0       |[0.9400575071726144,0.05994249282738562] |\n",
            "|[0.0,95.0,80.0,45.0,92.0,36.5,0.33,26.0]   |0      |0.0       |[0.9098849782457891,0.09011502175421093] |\n",
            "|[0.0,101.0,62.0,0.0,0.0,21.9,0.336,25.0]   |0      |0.0       |[0.95913704824924,0.040862951750760046]  |\n",
            "|[0.0,102.0,78.0,40.0,90.0,34.5,0.238,24.0] |0      |0.0       |[0.909730770818807,0.09026922918119296]  |\n",
            "|[0.0,107.0,60.0,25.0,0.0,26.4,0.133,23.0]  |0      |0.0       |[0.9319223106806316,0.06807768931936842] |\n",
            "|[0.0,107.0,62.0,30.0,74.0,36.6,0.757,25.0] |1      |0.0       |[0.7765941808285628,0.2234058191714372]  |\n",
            "|[0.0,107.0,76.0,0.0,0.0,45.3,0.686,24.0]   |0      |0.0       |[0.6698620506805921,0.3301379493194079]  |\n",
            "|[0.0,109.0,88.0,30.0,0.0,32.5,0.855,38.0]  |1      |0.0       |[0.8263725016178565,0.17362749838214353] |\n",
            "|[0.0,113.0,76.0,0.0,0.0,33.3,0.278,23.0]   |1      |0.0       |[0.873127593521041,0.12687240647895903]  |\n",
            "|[0.0,117.0,80.0,31.0,53.0,45.2,0.089,24.0] |0      |0.0       |[0.7046363441444108,0.2953636558555892]  |\n",
            "|[0.0,123.0,88.0,37.0,0.0,35.2,0.197,29.0]  |0      |0.0       |[0.8069629307049742,0.19303706929502584] |\n",
            "|[0.0,127.0,80.0,37.0,210.0,36.3,0.804,23.0]|0      |0.0       |[0.7135338281739466,0.2864661718260534]  |\n",
            "|[0.0,135.0,68.0,42.0,250.0,42.3,0.365,24.0]|1      |0.0       |[0.562337503647187,0.43766249635281296]  |\n",
            "|[0.0,179.0,90.0,27.0,0.0,44.1,0.686,23.0]  |1      |1.0       |[0.13978542195124685,0.8602145780487531] |\n",
            "|[1.0,77.0,56.0,30.0,56.0,33.3,1.251,24.0]  |0      |0.0       |[0.889541205822089,0.11045879417791105]  |\n",
            "|[1.0,80.0,55.0,0.0,0.0,19.1,0.258,21.0]    |0      |0.0       |[0.9840567203246485,0.015943279675351474]|\n",
            "+-------------------------------------------+-------+----------+-----------------------------------------+\n",
            "only showing top 20 rows\n",
            "\n"
          ]
        }
      ]
    },
    {
      "cell_type": "code",
      "source": [
        "import matplotlib.pyplot as plt\n",
        "\n",
        "# Convert the prediction result to a Pandas DataFrame for easier plotting\n",
        "prediction_df = prediction_result.toPandas()\n",
        "\n",
        "# Count the occurrences of each predicted label\n",
        "label_counts = prediction_df['prediction'].value_counts()\n",
        "\n",
        "# Create the bar plot\n",
        "plt.bar(label_counts.index, label_counts.values)\n",
        "\n",
        "# Set the labels and title\n",
        "plt.xlabel('Prediction')\n",
        "plt.ylabel('Count')\n",
        "plt.title('Prediction Results')\n",
        "\n",
        "# Show the plot\n",
        "plt.show()\n"
      ],
      "metadata": {
        "colab": {
          "base_uri": "https://localhost:8080/",
          "height": 472
        },
        "id": "p1TJC2qyYOkv",
        "outputId": "52e80c0e-5d0d-4c89-98c7-38ccf597e87a"
      },
      "execution_count": 54,
      "outputs": [
        {
          "output_type": "display_data",
          "data": {
            "text/plain": [
              "<Figure size 640x480 with 1 Axes>"
            ],
            "image/png": "[encoded data removed]"
          },
          "metadata": {}
        }
      ]
    }
  ]
}